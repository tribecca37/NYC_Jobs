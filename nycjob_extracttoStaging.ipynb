{
  "nbformat": 4,
  "nbformat_minor": 0,
  "metadata": {
    "colab": {
      "provenance": [],
      "include_colab_link": true
    },
    "kernelspec": {
      "name": "python3",
      "display_name": "Python 3"
    },
    "language_info": {
      "name": "python"
    }
  },
  "cells": [
    {
      "cell_type": "markdown",
      "metadata": {
        "id": "view-in-github",
        "colab_type": "text"
      },
      "source": [
        "<a href=\"https://colab.research.google.com/github/tribecca37/NYC_Jobs/blob/main/nycjob_extracttoStaging.ipynb\" target=\"_parent\"><img src=\"https://colab.research.google.com/assets/colab-badge.svg\" alt=\"Open In Colab\"/></a>"
      ]
    },
    {
      "cell_type": "code",
      "source": [
        "!pip install azure-storage-blob\n",
        "!pip install boto3\n",
        "!pip install google-cloud-storage\n",
        "!pip install requests"
      ],
      "metadata": {
        "colab": {
          "base_uri": "https://localhost:8080/"
        },
        "id": "BWFa-5lpOALy",
        "outputId": "d210c1f5-2a45-4c76-d323-ace14d47899f"
      },
      "execution_count": 10,
      "outputs": [
        {
          "output_type": "stream",
          "name": "stdout",
          "text": [
            "Requirement already satisfied: azure-storage-blob in /usr/local/lib/python3.10/dist-packages (12.20.0)\n",
            "Requirement already satisfied: azure-core>=1.28.0 in /usr/local/lib/python3.10/dist-packages (from azure-storage-blob) (1.30.1)\n",
            "Requirement already satisfied: cryptography>=2.1.4 in /usr/local/lib/python3.10/dist-packages (from azure-storage-blob) (42.0.7)\n",
            "Requirement already satisfied: typing-extensions>=4.6.0 in /usr/local/lib/python3.10/dist-packages (from azure-storage-blob) (4.11.0)\n",
            "Requirement already satisfied: isodate>=0.6.1 in /usr/local/lib/python3.10/dist-packages (from azure-storage-blob) (0.6.1)\n",
            "Requirement already satisfied: requests>=2.21.0 in /usr/local/lib/python3.10/dist-packages (from azure-core>=1.28.0->azure-storage-blob) (2.31.0)\n",
            "Requirement already satisfied: six>=1.11.0 in /usr/local/lib/python3.10/dist-packages (from azure-core>=1.28.0->azure-storage-blob) (1.16.0)\n",
            "Requirement already satisfied: cffi>=1.12 in /usr/local/lib/python3.10/dist-packages (from cryptography>=2.1.4->azure-storage-blob) (1.16.0)\n",
            "Requirement already satisfied: pycparser in /usr/local/lib/python3.10/dist-packages (from cffi>=1.12->cryptography>=2.1.4->azure-storage-blob) (2.22)\n",
            "Requirement already satisfied: charset-normalizer<4,>=2 in /usr/local/lib/python3.10/dist-packages (from requests>=2.21.0->azure-core>=1.28.0->azure-storage-blob) (3.3.2)\n",
            "Requirement already satisfied: idna<4,>=2.5 in /usr/local/lib/python3.10/dist-packages (from requests>=2.21.0->azure-core>=1.28.0->azure-storage-blob) (3.7)\n",
            "Requirement already satisfied: urllib3<3,>=1.21.1 in /usr/local/lib/python3.10/dist-packages (from requests>=2.21.0->azure-core>=1.28.0->azure-storage-blob) (2.0.7)\n",
            "Requirement already satisfied: certifi>=2017.4.17 in /usr/local/lib/python3.10/dist-packages (from requests>=2.21.0->azure-core>=1.28.0->azure-storage-blob) (2024.2.2)\n",
            "Requirement already satisfied: boto3 in /usr/local/lib/python3.10/dist-packages (1.34.102)\n",
            "Requirement already satisfied: botocore<1.35.0,>=1.34.102 in /usr/local/lib/python3.10/dist-packages (from boto3) (1.34.102)\n",
            "Requirement already satisfied: jmespath<2.0.0,>=0.7.1 in /usr/local/lib/python3.10/dist-packages (from boto3) (1.0.1)\n",
            "Requirement already satisfied: s3transfer<0.11.0,>=0.10.0 in /usr/local/lib/python3.10/dist-packages (from boto3) (0.10.1)\n",
            "Requirement already satisfied: python-dateutil<3.0.0,>=2.1 in /usr/local/lib/python3.10/dist-packages (from botocore<1.35.0,>=1.34.102->boto3) (2.8.2)\n",
            "Requirement already satisfied: urllib3!=2.2.0,<3,>=1.25.4 in /usr/local/lib/python3.10/dist-packages (from botocore<1.35.0,>=1.34.102->boto3) (2.0.7)\n",
            "Requirement already satisfied: six>=1.5 in /usr/local/lib/python3.10/dist-packages (from python-dateutil<3.0.0,>=2.1->botocore<1.35.0,>=1.34.102->boto3) (1.16.0)\n",
            "Requirement already satisfied: google-cloud-storage in /usr/local/lib/python3.10/dist-packages (2.8.0)\n",
            "Requirement already satisfied: google-auth<3.0dev,>=1.25.0 in /usr/local/lib/python3.10/dist-packages (from google-cloud-storage) (2.27.0)\n",
            "Requirement already satisfied: google-api-core!=2.0.*,!=2.1.*,!=2.2.*,!=2.3.0,<3.0.0dev,>=1.31.5 in /usr/local/lib/python3.10/dist-packages (from google-cloud-storage) (2.11.1)\n",
            "Requirement already satisfied: google-cloud-core<3.0dev,>=2.3.0 in /usr/local/lib/python3.10/dist-packages (from google-cloud-storage) (2.3.3)\n",
            "Requirement already satisfied: google-resumable-media>=2.3.2 in /usr/local/lib/python3.10/dist-packages (from google-cloud-storage) (2.7.0)\n",
            "Requirement already satisfied: requests<3.0.0dev,>=2.18.0 in /usr/local/lib/python3.10/dist-packages (from google-cloud-storage) (2.31.0)\n",
            "Requirement already satisfied: googleapis-common-protos<2.0.dev0,>=1.56.2 in /usr/local/lib/python3.10/dist-packages (from google-api-core!=2.0.*,!=2.1.*,!=2.2.*,!=2.3.0,<3.0.0dev,>=1.31.5->google-cloud-storage) (1.63.0)\n",
            "Requirement already satisfied: protobuf!=3.20.0,!=3.20.1,!=4.21.0,!=4.21.1,!=4.21.2,!=4.21.3,!=4.21.4,!=4.21.5,<5.0.0.dev0,>=3.19.5 in /usr/local/lib/python3.10/dist-packages (from google-api-core!=2.0.*,!=2.1.*,!=2.2.*,!=2.3.0,<3.0.0dev,>=1.31.5->google-cloud-storage) (3.20.3)\n",
            "Requirement already satisfied: cachetools<6.0,>=2.0.0 in /usr/local/lib/python3.10/dist-packages (from google-auth<3.0dev,>=1.25.0->google-cloud-storage) (5.3.3)\n",
            "Requirement already satisfied: pyasn1-modules>=0.2.1 in /usr/local/lib/python3.10/dist-packages (from google-auth<3.0dev,>=1.25.0->google-cloud-storage) (0.4.0)\n",
            "Requirement already satisfied: rsa<5,>=3.1.4 in /usr/local/lib/python3.10/dist-packages (from google-auth<3.0dev,>=1.25.0->google-cloud-storage) (4.9)\n",
            "Requirement already satisfied: google-crc32c<2.0dev,>=1.0 in /usr/local/lib/python3.10/dist-packages (from google-resumable-media>=2.3.2->google-cloud-storage) (1.5.0)\n",
            "Requirement already satisfied: charset-normalizer<4,>=2 in /usr/local/lib/python3.10/dist-packages (from requests<3.0.0dev,>=2.18.0->google-cloud-storage) (3.3.2)\n",
            "Requirement already satisfied: idna<4,>=2.5 in /usr/local/lib/python3.10/dist-packages (from requests<3.0.0dev,>=2.18.0->google-cloud-storage) (3.7)\n",
            "Requirement already satisfied: urllib3<3,>=1.21.1 in /usr/local/lib/python3.10/dist-packages (from requests<3.0.0dev,>=2.18.0->google-cloud-storage) (2.0.7)\n",
            "Requirement already satisfied: certifi>=2017.4.17 in /usr/local/lib/python3.10/dist-packages (from requests<3.0.0dev,>=2.18.0->google-cloud-storage) (2024.2.2)\n",
            "Requirement already satisfied: pyasn1<0.7.0,>=0.4.6 in /usr/local/lib/python3.10/dist-packages (from pyasn1-modules>=0.2.1->google-auth<3.0dev,>=1.25.0->google-cloud-storage) (0.6.0)\n",
            "Requirement already satisfied: requests in /usr/local/lib/python3.10/dist-packages (2.31.0)\n",
            "Requirement already satisfied: charset-normalizer<4,>=2 in /usr/local/lib/python3.10/dist-packages (from requests) (3.3.2)\n",
            "Requirement already satisfied: idna<4,>=2.5 in /usr/local/lib/python3.10/dist-packages (from requests) (3.7)\n",
            "Requirement already satisfied: urllib3<3,>=1.21.1 in /usr/local/lib/python3.10/dist-packages (from requests) (2.0.7)\n",
            "Requirement already satisfied: certifi>=2017.4.17 in /usr/local/lib/python3.10/dist-packages (from requests) (2024.2.2)\n"
          ]
        }
      ]
    },
    {
      "cell_type": "code",
      "execution_count": 2,
      "metadata": {
        "id": "dnxRJJhJGrGU"
      },
      "outputs": [],
      "source": [
        "# import Librairies\n",
        "import pandas as pd\n",
        "import numpy as  np\n",
        "import json\n",
        "import requests\n",
        "import boto3\n",
        "from azure.storage.blob import BlobServiceClient, BlobClient, ContainerClient\n",
        "from google.cloud import storage\n",
        "from io import StringIO"
      ]
    },
    {
      "cell_type": "code",
      "source": [
        "# Function\n",
        "import os\n",
        "import boto3\n",
        "from azure.storage.blob import BlobServiceClient\n",
        "from google.cloud import storage\n",
        "import pandas as pd\n",
        "from io import BytesIO, StringIO\n",
        "\n",
        "# Azure Functions\n",
        "def azure_upload_blob(connect_str, container_name, blob_name, data):\n",
        "    blob_service_client = BlobServiceClient.from_connection_string(connect_str)\n",
        "    blob_client = blob_service_client.get_blob_client(container=container_name, blob=blob_name)\n",
        "    blob_client.upload_blob(data, overwrite=True)\n",
        "    print(f\"Uploaded to Azure Blob: {blob_name}\")\n",
        "\n",
        "def azure_download_blob(connect_str, container_name, blob_name):\n",
        "    blob_service_client = BlobServiceClient.from_connection_string(connect_str)\n",
        "    blob_client = blob_service_client.get_blob_client(container=container_name, blob=blob_name)\n",
        "    download_stream = blob_client.download_blob()\n",
        "    return download_stream.readall()\n",
        "\n",
        "# Google Cloud Functions\n",
        "def google_upload_blob(bucket_name, source_file_name, destination_blob_name):\n",
        "    storage_client = storage.Client()\n",
        "    bucket = storage_client.bucket(bucket_name)\n",
        "    blob = bucket.blob(destination_blob_name)\n",
        "    blob.upload_from_filename(source_file_name)\n",
        "    print(f\"File {source_file_name} uploaded to {destination_blob_name}.\")\n",
        "\n",
        "def google_download_blob(bucket_name, source_blob_name, destination_file_name):\n",
        "    storage_client = storage.Client()\n",
        "    bucket = storage_client.bucket(bucket_name)\n",
        "    blob = bucket.blob(source_blob_name)\n",
        "    blob.download_to_filename(destination_file_name)\n",
        "    print(f\"Blob {source_blob_name} downloaded to {destination_file_name}.\")\n",
        "\n",
        "# AWS Functions\n",
        "def aws_upload_file(file_name, bucket, object_name=None):\n",
        "    if object_name is None:\n",
        "        object_name = os.path.basename(file_name)\n",
        "    s3_client = boto3.client('s3')\n",
        "    response = s3_client.upload_file(file_name, bucket, object_name)\n",
        "    print(f\"Uploaded {file_name} to S3 bucket {bucket}.\")\n",
        "\n",
        "def aws_download_file(bucket, object_name, file_name):\n",
        "    s3_client = boto3.client('s3')\n",
        "    s3_client.download_file(bucket, object_name, file_name)\n",
        "    print(f\"Downloaded {object_name} from S3 bucket {bucket}.\")"
      ],
      "metadata": {
        "id": "bLW_UOQsCRhT"
      },
      "execution_count": 3,
      "outputs": []
    },
    {
      "cell_type": "markdown",
      "source": [
        "s1 --> Gather --> Deccompress --> Convert to Tabular --> Clean  --> Reformat ---> Consolidation --> Transformation --> Load"
      ],
      "metadata": {
        "id": "utM-jIdhJZeG"
      }
    },
    {
      "cell_type": "code",
      "source": [
        "import requests\n",
        "response = requests.get(\"https://data.cityofnewyork.us/api/odata/v4/kpav-sd4t\")\n",
        "print(response.status_code)"
      ],
      "metadata": {
        "colab": {
          "base_uri": "https://localhost:8080/"
        },
        "id": "qoymauWY1Yb9",
        "outputId": "860f0be8-f685-4694-d58e-8d75542166da"
      },
      "execution_count": 13,
      "outputs": [
        {
          "output_type": "stream",
          "name": "stdout",
          "text": [
            "200\n"
          ]
        }
      ]
    },
    {
      "cell_type": "code",
      "source": [
        "import requests\n",
        "import pandas as pd\n",
        "\n",
        "# API endpoint URL\n",
        "url = \"https://data.cityofnewyork.us/api/odata/v4/kpav-sd4t\"\n",
        "\n",
        "# Sending a GET request to the API\n",
        "response = requests.get(url, headers=headers, params=params)\n",
        "\n",
        "if response.status_code == 200:\n",
        "    data = response.json()  # Convert JSON response to a dictionary\n",
        "    if 'value' in data:\n",
        "        df_raw = pd.DataFrame(data['value'])\n",
        "        print(df_raw.head())\n",
        "        print(df_raw.columns)\n",
        "        #access only specific columns, you can do it here directly:\n",
        "        selected_df = df_raw[['job_id', 'agency', 'posting_type', 'number_of_positions', 'business_title']]\n",
        "        print(df_raw.shape)  # Print the shape of the DataFrame\n",
        "    else:\n",
        "        print(\"No data found in response.\")\n",
        "else:\n",
        "    print(\"Failed to fetch data:\", response.status_code)\n",
        "    print(response.text)\n"
      ],
      "metadata": {
        "colab": {
          "base_uri": "https://localhost:8080/"
        },
        "id": "K6uW-D087dph",
        "outputId": "f56dbabc-fce0-4f95-882c-498eafb12f36"
      },
      "execution_count": 40,
      "outputs": [
        {
          "output_type": "stream",
          "name": "stdout",
          "text": [
            "                 __id  job_id                          agency posting_type  \\\n",
            "0  row-srwb~tx2x~n8ev  534519  DEPT OF ENVIRONMENT PROTECTION     Internal   \n",
            "1  row-gmmp~st9n.mrhz  631363  DEPT OF ENVIRONMENT PROTECTION     Internal   \n",
            "2  row-7ijt_sqje-vi6i  628158         BRONX DISTRICT ATTORNEY     External   \n",
            "3  row-zgeu~yra9-82sy  629002      OFFICE OF CRIMINAL JUSTICE     Internal   \n",
            "4  row-atvs.3bjf~45tx  613253   DEPT OF DESIGN & CONSTRUCTION     Internal   \n",
            "\n",
            "  number_of_positions                                     business_title  \\\n",
            "0                   2                                  Region Supervisor   \n",
            "1                   1  2024-BWS-010-Early Warning Remote Modeling Int...   \n",
            "2                   2                               Intelligence Analyst   \n",
            "3                   1               Senior Coordinator, Capital Projects   \n",
            "4                   1                                           Director   \n",
            "\n",
            "              civil_service_title title_classification title_code_no level  \\\n",
            "0  ADMINISTRATIVE PROJECT MANAGER        Competitive-1         8300B    00   \n",
            "1           SUMMER COLLEGE INTERN    Non-Competitive-5         10234    00   \n",
            "2             COMMUNITY ASSOCIATE    Non-Competitive-5         56057    00   \n",
            "3           COMMUNITY COORDINATOR    Non-Competitive-5         56058    00   \n",
            "4     ADMINISTRATIVE CITY PLANNER        Competitive-1         10053    M2   \n",
            "\n",
            "   ...                             additional_information  \\\n",
            "0  ...  Appointments are subject to OMB approval. For ...   \n",
            "1  ...                                               None   \n",
            "2  ...                                               None   \n",
            "3  ...                                               None   \n",
            "4  ...                                               None   \n",
            "\n",
            "                                            to_apply        hours_shift  \\\n",
            "0                   To Apply: Click Apply Now button               None   \n",
            "1  Apply click the âApply Nowâ button.    DEP...  35 Hours per week   \n",
            "2  For City employees, to complete your applicati...               None   \n",
            "3                                               None               None   \n",
            "4  Please go to NYC Government Jobs  Explore Care...               None   \n",
            "\n",
            "                                     work_location_1 recruitment_contact  \\\n",
            "0                        96-05 Horace Harding Expway                None   \n",
            "1  *The position is located in Valhalla, NY, in W...                None   \n",
            "2                                               None                None   \n",
            "3                                               None                None   \n",
            "4                                               None                None   \n",
            "\n",
            "                               residency_requirement             posting_date  \\\n",
            "0  There is no residency requirement for this title.  2022-06-08T00:00:00.000   \n",
            "1  There is no New York City residency requiremen...  2024-04-02T00:00:00.000   \n",
            "2   City Residency is not required for this position  2024-02-27T00:00:00.000   \n",
            "3  New York City residency is generally required ...  2024-03-05T00:00:00.000   \n",
            "4  New York City residency is generally required ...  2023-11-06T00:00:00.000   \n",
            "\n",
            "    post_until          posting_updated             process_date  \n",
            "0         None  2022-06-12T00:00:00.000  2024-05-06T00:00:00.000  \n",
            "1  11-JUN-2024  2024-04-02T00:00:00.000  2024-05-06T00:00:00.000  \n",
            "2  26-FEB-2025  2024-02-27T00:00:00.000  2024-05-06T00:00:00.000  \n",
            "3  29-MAY-2024  2024-04-29T00:00:00.000  2024-05-06T00:00:00.000  \n",
            "4         None  2024-03-05T00:00:00.000  2024-05-06T00:00:00.000  \n",
            "\n",
            "[5 rows x 31 columns]\n",
            "Index(['__id', 'job_id', 'agency', 'posting_type', 'number_of_positions',\n",
            "       'business_title', 'civil_service_title', 'title_classification',\n",
            "       'title_code_no', 'level', 'job_category',\n",
            "       'full_time_part_time_indicator', 'career_level', 'salary_range_from',\n",
            "       'salary_range_to', 'salary_frequency', 'work_location',\n",
            "       'division_work_unit', 'job_description', 'minimum_qual_requirements',\n",
            "       'preferred_skills', 'additional_information', 'to_apply', 'hours_shift',\n",
            "       'work_location_1', 'recruitment_contact', 'residency_requirement',\n",
            "       'posting_date', 'post_until', 'posting_updated', 'process_date'],\n",
            "      dtype='object')\n",
            "(1000, 31)\n"
          ]
        }
      ]
    },
    {
      "cell_type": "code",
      "source": [
        "df_raw.info()"
      ],
      "metadata": {
        "colab": {
          "base_uri": "https://localhost:8080/"
        },
        "id": "-HbVgHulLdGi",
        "outputId": "cc44575c-e48a-45ab-ffd4-b2defdf19c6d"
      },
      "execution_count": 41,
      "outputs": [
        {
          "output_type": "stream",
          "name": "stdout",
          "text": [
            "<class 'pandas.core.frame.DataFrame'>\n",
            "RangeIndex: 1000 entries, 0 to 999\n",
            "Data columns (total 31 columns):\n",
            " #   Column                         Non-Null Count  Dtype \n",
            "---  ------                         --------------  ----- \n",
            " 0   __id                           1000 non-null   object\n",
            " 1   job_id                         1000 non-null   object\n",
            " 2   agency                         1000 non-null   object\n",
            " 3   posting_type                   1000 non-null   object\n",
            " 4   number_of_positions            1000 non-null   object\n",
            " 5   business_title                 1000 non-null   object\n",
            " 6   civil_service_title            1000 non-null   object\n",
            " 7   title_classification           1000 non-null   object\n",
            " 8   title_code_no                  1000 non-null   object\n",
            " 9   level                          1000 non-null   object\n",
            " 10  job_category                   1000 non-null   object\n",
            " 11  full_time_part_time_indicator  985 non-null    object\n",
            " 12  career_level                   1000 non-null   object\n",
            " 13  salary_range_from              1000 non-null   object\n",
            " 14  salary_range_to                1000 non-null   object\n",
            " 15  salary_frequency               1000 non-null   object\n",
            " 16  work_location                  1000 non-null   object\n",
            " 17  division_work_unit             1000 non-null   object\n",
            " 18  job_description                1000 non-null   object\n",
            " 19  minimum_qual_requirements      994 non-null    object\n",
            " 20  preferred_skills               728 non-null    object\n",
            " 21  additional_information         526 non-null    object\n",
            " 22  to_apply                       801 non-null    object\n",
            " 23  hours_shift                    313 non-null    object\n",
            " 24  work_location_1                375 non-null    object\n",
            " 25  recruitment_contact            0 non-null      object\n",
            " 26  residency_requirement          1000 non-null   object\n",
            " 27  posting_date                   1000 non-null   object\n",
            " 28  post_until                     353 non-null    object\n",
            " 29  posting_updated                1000 non-null   object\n",
            " 30  process_date                   1000 non-null   object\n",
            "dtypes: object(31)\n",
            "memory usage: 242.3+ KB\n"
          ]
        }
      ]
    },
    {
      "cell_type": "code",
      "source": [
        "df_cleaned = df_raw.copy()"
      ],
      "metadata": {
        "id": "XbjmBtfWLukZ"
      },
      "execution_count": 42,
      "outputs": []
    },
    {
      "cell_type": "code",
      "source": [
        "df_cleaned = df_raw.drop(columns=  ['recruitment_contact', 'work_location_1', 'hours_shift', 'post_until', 'additional_information'])\n",
        "df_cleaned.info()"
      ],
      "metadata": {
        "colab": {
          "base_uri": "https://localhost:8080/"
        },
        "id": "luizwkAGL1OL",
        "outputId": "ee987f32-f729-4e9f-a38f-230645d75636"
      },
      "execution_count": 45,
      "outputs": [
        {
          "output_type": "stream",
          "name": "stdout",
          "text": [
            "<class 'pandas.core.frame.DataFrame'>\n",
            "RangeIndex: 1000 entries, 0 to 999\n",
            "Data columns (total 26 columns):\n",
            " #   Column                         Non-Null Count  Dtype \n",
            "---  ------                         --------------  ----- \n",
            " 0   __id                           1000 non-null   object\n",
            " 1   job_id                         1000 non-null   object\n",
            " 2   agency                         1000 non-null   object\n",
            " 3   posting_type                   1000 non-null   object\n",
            " 4   number_of_positions            1000 non-null   object\n",
            " 5   business_title                 1000 non-null   object\n",
            " 6   civil_service_title            1000 non-null   object\n",
            " 7   title_classification           1000 non-null   object\n",
            " 8   title_code_no                  1000 non-null   object\n",
            " 9   level                          1000 non-null   object\n",
            " 10  job_category                   1000 non-null   object\n",
            " 11  full_time_part_time_indicator  985 non-null    object\n",
            " 12  career_level                   1000 non-null   object\n",
            " 13  salary_range_from              1000 non-null   object\n",
            " 14  salary_range_to                1000 non-null   object\n",
            " 15  salary_frequency               1000 non-null   object\n",
            " 16  work_location                  1000 non-null   object\n",
            " 17  division_work_unit             1000 non-null   object\n",
            " 18  job_description                1000 non-null   object\n",
            " 19  minimum_qual_requirements      994 non-null    object\n",
            " 20  preferred_skills               728 non-null    object\n",
            " 21  to_apply                       801 non-null    object\n",
            " 22  residency_requirement          1000 non-null   object\n",
            " 23  posting_date                   1000 non-null   object\n",
            " 24  posting_updated                1000 non-null   object\n",
            " 25  process_date                   1000 non-null   object\n",
            "dtypes: object(26)\n",
            "memory usage: 203.2+ KB\n"
          ]
        }
      ]
    },
    {
      "cell_type": "code",
      "source": [
        "CONNECTION_STRING_AZURE_STORAGE = \"DefaultEndpointsProtocol=https;AccountName=nycjobs;AccountKey=IuQ3EcwNFwEaSl4kBB7pn6YFkrmux0GxuaqplhfQErilu32k8n7p4lw9ckn65O3VMTvGrUijAgaY+ASt6+1LYA==;EndpointSuffix=core.windows.net\"\n",
        "CONTAINER_AZURE = 'nycjobs'\n",
        "blob_name = \"nycjobs.csv\"\n",
        "# Convert DataFrame to CSV\n",
        "output = StringIO()\n",
        "df_raw.to_csv(output, index=False)\n",
        "data = output.getvalue()\n",
        "output.close()\n",
        "\n",
        "# Create the BlobServiceClient object\n",
        "blob_service_client = BlobServiceClient.from_connection_string(CONNECTION_STRING_AZURE_STORAGE)\n",
        "\n",
        "# Get a blob client using the container name and blob name\n",
        "blob_client = blob_service_client.get_blob_client(container=CONTAINER_AZURE, blob=blob_name)\n",
        "\n",
        "# Upload the CSV data\n",
        "blob_client.upload_blob(data, overwrite=True)\n",
        "\n",
        "print(f\"Uploaded {blob_name} to Azure Blob Storage in container {CONTAINER_AZURE}.\")\n"
      ],
      "metadata": {
        "colab": {
          "base_uri": "https://localhost:8080/"
        },
        "id": "bymRzdQ1NXVG",
        "outputId": "64c40455-091a-4c82-86d5-5475d48597e2"
      },
      "execution_count": 46,
      "outputs": [
        {
          "output_type": "stream",
          "name": "stdout",
          "text": [
            "Uploaded nycjobs.csv to Azure Blob Storage in container nycjobs.\n"
          ]
        }
      ]
    },
    {
      "cell_type": "code",
      "source": [
        "# Example usage\n",
        "if __name__ == \"__main__\":\n",
        "\n",
        "    output = StringIO()\n",
        "    df_raw.to_csv(output, index=False)\n",
        "    data = output.getvalue()\n",
        "    output.close()\n",
        "\n",
        "    # Azure\n",
        "    azure_connect_str = 'DefaultEndpointsProtocol=https;AccountName=nycjobs;AccountKey=IuQ3EcwNFwEaSl4kBB7pn6YFkrmux0GxuaqplhfQErilu32k8n7p4lw9ckn65O3VMTvGrUijAgaY+ASt6+1LYA==;EndpointSuffix=core.windows.net'\n",
        "    azure_container_name = 'nycjobs'\n",
        "    azure_blob_name = 'nycjobs.csv'\n",
        "    azure_data = 'Hello, Azure!'\n",
        "    azure_upload_blob(azure_connect_str, azure_container_name, azure_blob_name, azure_data)\n",
        "    # Download and print the blob content\n",
        "    azure_blob_content = azure_download_blob(azure_connect_str, azure_container_name, azure_blob_name)\n",
        "    print(azure_blob_content)\n"
      ],
      "metadata": {
        "colab": {
          "base_uri": "https://localhost:8080/"
        },
        "id": "lJJiIYvKCaiE",
        "outputId": "d66de7b8-9021-4a53-a3ec-a4fd00cedb12"
      },
      "execution_count": 47,
      "outputs": [
        {
          "output_type": "stream",
          "name": "stdout",
          "text": [
            "Uploaded to Azure Blob: nycjobs.csv\n",
            "b'Hello, Azure!'\n"
          ]
        }
      ]
    }
  ]
}