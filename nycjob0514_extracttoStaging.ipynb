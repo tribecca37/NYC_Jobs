{
  "nbformat": 4,
  "nbformat_minor": 0,
  "metadata": {
    "colab": {
      "provenance": [],
      "include_colab_link": true
    },
    "kernelspec": {
      "name": "python3",
      "display_name": "Python 3"
    },
    "language_info": {
      "name": "python"
    }
  },
  "cells": [
    {
      "cell_type": "markdown",
      "metadata": {
        "id": "view-in-github",
        "colab_type": "text"
      },
      "source": [
        "<a href=\"https://colab.research.google.com/github/tribecca37/NYC_Jobs/blob/main/nycjob0514_extracttoStaging.ipynb\" target=\"_parent\"><img src=\"https://colab.research.google.com/assets/colab-badge.svg\" alt=\"Open In Colab\"/></a>"
      ]
    },
    {
      "cell_type": "code",
      "source": [
        "!pip install azure-storage-blob\n",
        "!pip install boto3\n",
        "!pip install google-cloud-storage\n",
        "!pip install requests"
      ],
      "metadata": {
        "colab": {
          "base_uri": "https://localhost:8080/"
        },
        "id": "BWFa-5lpOALy",
        "outputId": "09363208-a966-40b0-ec66-7158a85d4b21"
      },
      "execution_count": null,
      "outputs": [
        {
          "output_type": "stream",
          "name": "stdout",
          "text": [
            "Collecting azure-storage-blob\n",
            "  Downloading azure_storage_blob-12.20.0-py3-none-any.whl (392 kB)\n",
            "\u001b[2K     \u001b[90m━━━━━━━━━━━━━━━━━━━━━━━━━━━━━━━━━━━━━━━━\u001b[0m \u001b[32m392.2/392.2 kB\u001b[0m \u001b[31m4.1 MB/s\u001b[0m eta \u001b[36m0:00:00\u001b[0m\n",
            "\u001b[?25hCollecting azure-core>=1.28.0 (from azure-storage-blob)\n",
            "  Downloading azure_core-1.30.1-py3-none-any.whl (193 kB)\n",
            "\u001b[2K     \u001b[90m━━━━━━━━━━━━━━━━━━━━━━━━━━━━━━━━━━━━━━━━\u001b[0m \u001b[32m193.4/193.4 kB\u001b[0m \u001b[31m12.6 MB/s\u001b[0m eta \u001b[36m0:00:00\u001b[0m\n",
            "\u001b[?25hRequirement already satisfied: cryptography>=2.1.4 in /usr/local/lib/python3.10/dist-packages (from azure-storage-blob) (42.0.7)\n",
            "Requirement already satisfied: typing-extensions>=4.6.0 in /usr/local/lib/python3.10/dist-packages (from azure-storage-blob) (4.11.0)\n",
            "Collecting isodate>=0.6.1 (from azure-storage-blob)\n",
            "  Downloading isodate-0.6.1-py2.py3-none-any.whl (41 kB)\n",
            "\u001b[2K     \u001b[90m━━━━━━━━━━━━━━━━━━━━━━━━━━━━━━━━━━━━━━━━\u001b[0m \u001b[32m41.7/41.7 kB\u001b[0m \u001b[31m2.5 MB/s\u001b[0m eta \u001b[36m0:00:00\u001b[0m\n",
            "\u001b[?25hRequirement already satisfied: requests>=2.21.0 in /usr/local/lib/python3.10/dist-packages (from azure-core>=1.28.0->azure-storage-blob) (2.31.0)\n",
            "Requirement already satisfied: six>=1.11.0 in /usr/local/lib/python3.10/dist-packages (from azure-core>=1.28.0->azure-storage-blob) (1.16.0)\n",
            "Requirement already satisfied: cffi>=1.12 in /usr/local/lib/python3.10/dist-packages (from cryptography>=2.1.4->azure-storage-blob) (1.16.0)\n",
            "Requirement already satisfied: pycparser in /usr/local/lib/python3.10/dist-packages (from cffi>=1.12->cryptography>=2.1.4->azure-storage-blob) (2.22)\n",
            "Requirement already satisfied: charset-normalizer<4,>=2 in /usr/local/lib/python3.10/dist-packages (from requests>=2.21.0->azure-core>=1.28.0->azure-storage-blob) (3.3.2)\n",
            "Requirement already satisfied: idna<4,>=2.5 in /usr/local/lib/python3.10/dist-packages (from requests>=2.21.0->azure-core>=1.28.0->azure-storage-blob) (3.7)\n",
            "Requirement already satisfied: urllib3<3,>=1.21.1 in /usr/local/lib/python3.10/dist-packages (from requests>=2.21.0->azure-core>=1.28.0->azure-storage-blob) (2.0.7)\n",
            "Requirement already satisfied: certifi>=2017.4.17 in /usr/local/lib/python3.10/dist-packages (from requests>=2.21.0->azure-core>=1.28.0->azure-storage-blob) (2024.2.2)\n",
            "Installing collected packages: isodate, azure-core, azure-storage-blob\n",
            "Successfully installed azure-core-1.30.1 azure-storage-blob-12.20.0 isodate-0.6.1\n",
            "Collecting boto3\n",
            "  Downloading boto3-1.34.104-py3-none-any.whl (139 kB)\n",
            "\u001b[2K     \u001b[90m━━━━━━━━━━━━━━━━━━━━━━━━━━━━━━━━━━━━━━━━\u001b[0m \u001b[32m139.3/139.3 kB\u001b[0m \u001b[31m2.2 MB/s\u001b[0m eta \u001b[36m0:00:00\u001b[0m\n",
            "\u001b[?25hCollecting botocore<1.35.0,>=1.34.104 (from boto3)\n",
            "  Downloading botocore-1.34.104-py3-none-any.whl (12.2 MB)\n",
            "\u001b[2K     \u001b[90m━━━━━━━━━━━━━━━━━━━━━━━━━━━━━━━━━━━━━━━━\u001b[0m \u001b[32m12.2/12.2 MB\u001b[0m \u001b[31m34.5 MB/s\u001b[0m eta \u001b[36m0:00:00\u001b[0m\n",
            "\u001b[?25hCollecting jmespath<2.0.0,>=0.7.1 (from boto3)\n",
            "  Downloading jmespath-1.0.1-py3-none-any.whl (20 kB)\n",
            "Collecting s3transfer<0.11.0,>=0.10.0 (from boto3)\n",
            "  Downloading s3transfer-0.10.1-py3-none-any.whl (82 kB)\n",
            "\u001b[2K     \u001b[90m━━━━━━━━━━━━━━━━━━━━━━━━━━━━━━━━━━━━━━━━\u001b[0m \u001b[32m82.2/82.2 kB\u001b[0m \u001b[31m8.6 MB/s\u001b[0m eta \u001b[36m0:00:00\u001b[0m\n",
            "\u001b[?25hRequirement already satisfied: python-dateutil<3.0.0,>=2.1 in /usr/local/lib/python3.10/dist-packages (from botocore<1.35.0,>=1.34.104->boto3) (2.8.2)\n",
            "Requirement already satisfied: urllib3!=2.2.0,<3,>=1.25.4 in /usr/local/lib/python3.10/dist-packages (from botocore<1.35.0,>=1.34.104->boto3) (2.0.7)\n",
            "Requirement already satisfied: six>=1.5 in /usr/local/lib/python3.10/dist-packages (from python-dateutil<3.0.0,>=2.1->botocore<1.35.0,>=1.34.104->boto3) (1.16.0)\n",
            "Installing collected packages: jmespath, botocore, s3transfer, boto3\n",
            "Successfully installed boto3-1.34.104 botocore-1.34.104 jmespath-1.0.1 s3transfer-0.10.1\n",
            "Requirement already satisfied: google-cloud-storage in /usr/local/lib/python3.10/dist-packages (2.8.0)\n",
            "Requirement already satisfied: google-auth<3.0dev,>=1.25.0 in /usr/local/lib/python3.10/dist-packages (from google-cloud-storage) (2.27.0)\n",
            "Requirement already satisfied: google-api-core!=2.0.*,!=2.1.*,!=2.2.*,!=2.3.0,<3.0.0dev,>=1.31.5 in /usr/local/lib/python3.10/dist-packages (from google-cloud-storage) (2.11.1)\n",
            "Requirement already satisfied: google-cloud-core<3.0dev,>=2.3.0 in /usr/local/lib/python3.10/dist-packages (from google-cloud-storage) (2.3.3)\n",
            "Requirement already satisfied: google-resumable-media>=2.3.2 in /usr/local/lib/python3.10/dist-packages (from google-cloud-storage) (2.7.0)\n",
            "Requirement already satisfied: requests<3.0.0dev,>=2.18.0 in /usr/local/lib/python3.10/dist-packages (from google-cloud-storage) (2.31.0)\n",
            "Requirement already satisfied: googleapis-common-protos<2.0.dev0,>=1.56.2 in /usr/local/lib/python3.10/dist-packages (from google-api-core!=2.0.*,!=2.1.*,!=2.2.*,!=2.3.0,<3.0.0dev,>=1.31.5->google-cloud-storage) (1.63.0)\n",
            "Requirement already satisfied: protobuf!=3.20.0,!=3.20.1,!=4.21.0,!=4.21.1,!=4.21.2,!=4.21.3,!=4.21.4,!=4.21.5,<5.0.0.dev0,>=3.19.5 in /usr/local/lib/python3.10/dist-packages (from google-api-core!=2.0.*,!=2.1.*,!=2.2.*,!=2.3.0,<3.0.0dev,>=1.31.5->google-cloud-storage) (3.20.3)\n",
            "Requirement already satisfied: cachetools<6.0,>=2.0.0 in /usr/local/lib/python3.10/dist-packages (from google-auth<3.0dev,>=1.25.0->google-cloud-storage) (5.3.3)\n",
            "Requirement already satisfied: pyasn1-modules>=0.2.1 in /usr/local/lib/python3.10/dist-packages (from google-auth<3.0dev,>=1.25.0->google-cloud-storage) (0.4.0)\n",
            "Requirement already satisfied: rsa<5,>=3.1.4 in /usr/local/lib/python3.10/dist-packages (from google-auth<3.0dev,>=1.25.0->google-cloud-storage) (4.9)\n",
            "Requirement already satisfied: google-crc32c<2.0dev,>=1.0 in /usr/local/lib/python3.10/dist-packages (from google-resumable-media>=2.3.2->google-cloud-storage) (1.5.0)\n",
            "Requirement already satisfied: charset-normalizer<4,>=2 in /usr/local/lib/python3.10/dist-packages (from requests<3.0.0dev,>=2.18.0->google-cloud-storage) (3.3.2)\n",
            "Requirement already satisfied: idna<4,>=2.5 in /usr/local/lib/python3.10/dist-packages (from requests<3.0.0dev,>=2.18.0->google-cloud-storage) (3.7)\n",
            "Requirement already satisfied: urllib3<3,>=1.21.1 in /usr/local/lib/python3.10/dist-packages (from requests<3.0.0dev,>=2.18.0->google-cloud-storage) (2.0.7)\n",
            "Requirement already satisfied: certifi>=2017.4.17 in /usr/local/lib/python3.10/dist-packages (from requests<3.0.0dev,>=2.18.0->google-cloud-storage) (2024.2.2)\n",
            "Requirement already satisfied: pyasn1<0.7.0,>=0.4.6 in /usr/local/lib/python3.10/dist-packages (from pyasn1-modules>=0.2.1->google-auth<3.0dev,>=1.25.0->google-cloud-storage) (0.6.0)\n",
            "Requirement already satisfied: requests in /usr/local/lib/python3.10/dist-packages (2.31.0)\n",
            "Requirement already satisfied: charset-normalizer<4,>=2 in /usr/local/lib/python3.10/dist-packages (from requests) (3.3.2)\n",
            "Requirement already satisfied: idna<4,>=2.5 in /usr/local/lib/python3.10/dist-packages (from requests) (3.7)\n",
            "Requirement already satisfied: urllib3<3,>=1.21.1 in /usr/local/lib/python3.10/dist-packages (from requests) (2.0.7)\n",
            "Requirement already satisfied: certifi>=2017.4.17 in /usr/local/lib/python3.10/dist-packages (from requests) (2024.2.2)\n"
          ]
        }
      ]
    },
    {
      "cell_type": "code",
      "execution_count": null,
      "metadata": {
        "id": "dnxRJJhJGrGU"
      },
      "outputs": [],
      "source": [
        "# import Librairies\n",
        "import pandas as pd\n",
        "import numpy as  np\n",
        "import json\n",
        "import requests\n",
        "import boto3\n",
        "from azure.storage.blob import BlobServiceClient, BlobClient, ContainerClient\n",
        "from google.cloud import storage\n",
        "from io import StringIO"
      ]
    },
    {
      "cell_type": "code",
      "source": [
        "# Function\n",
        "import os\n",
        "import boto3\n",
        "from azure.storage.blob import BlobServiceClient\n",
        "from google.cloud import storage\n",
        "import pandas as pd\n",
        "from io import BytesIO, StringIO\n",
        "\n",
        "# Azure Functions\n",
        "def azure_upload_blob(connect_str, container_name, blob_name, data):\n",
        "    blob_service_client = BlobServiceClient.from_connection_string(connect_str)\n",
        "    blob_client = blob_service_client.get_blob_client(container=container_name, blob=blob_name)\n",
        "    blob_client.upload_blob(data, overwrite=True)\n",
        "    print(f\"Uploaded to Azure Blob: {blob_name}\")\n",
        "\n",
        "def azure_download_blob(connect_str, container_name, blob_name):\n",
        "    blob_service_client = BlobServiceClient.from_connection_string(connect_str)\n",
        "    blob_client = blob_service_client.get_blob_client(container=container_name, blob=blob_name)\n",
        "    download_stream = blob_client.download_blob()\n",
        "    return download_stream.readall()\n",
        "\n"
      ],
      "metadata": {
        "id": "bLW_UOQsCRhT"
      },
      "execution_count": null,
      "outputs": []
    },
    {
      "cell_type": "markdown",
      "source": [
        "s1 --> Gather --> Deccompress --> Convert to Tabular --> Clean  --> Reformat ---> Consolidation --> Transformation --> Load"
      ],
      "metadata": {
        "id": "utM-jIdhJZeG"
      }
    },
    {
      "cell_type": "code",
      "source": [
        "import requests\n",
        "response = requests.get(\"https://data.cityofnewyork.us/api/views/kpav-sd4t/rows.json?accessType=DOWNLOAD\")\n",
        "print(response.status_code)"
      ],
      "metadata": {
        "colab": {
          "base_uri": "https://localhost:8080/"
        },
        "id": "qoymauWY1Yb9",
        "outputId": "16e52bc9-91f3-4f0f-fa24-472ece0a1fea"
      },
      "execution_count": 11,
      "outputs": [
        {
          "output_type": "stream",
          "name": "stdout",
          "text": [
            "200\n"
          ]
        }
      ]
    },
    {
      "cell_type": "code",
      "source": [
        "import requests\n",
        "import pandas as pd\n",
        "\n",
        "# API endpoint URL\n",
        "url = \"https://data.cityofnewyork.us/api/views/kpav-sd4t/rows.json?accessType=DOWNLOAD\"\n",
        "\n",
        "# Sending a GET request to the API\n",
        "response = requests.get(url)\n",
        "\n",
        "if response.status_code == 200:\n",
        "    data = response.json()  # Convert JSON response to a dictionary\n",
        "    # Assuming the actual data is under the 'data' key and column names under 'columns'\n",
        "    columns = [col['name'] for col in data['meta']['view']['columns']]\n",
        "    df_raw = pd.DataFrame(data['data'], columns=columns)\n",
        "    print(df_raw.head())\n",
        "    print(df_raw.columns)\n",
        "    # Access only specific columns, check if they exist first:\n",
        "    column_subset = ['Job ID', 'Agency', 'Posting Type', '# Of Positions', 'Business Title']\n",
        "    if set(column_subset).issubset(df_raw.columns):\n",
        "        selected_df = df_raw[column_subset]\n",
        "        print(selected_df.head())\n",
        "    else:\n",
        "        print(\"Some of the specified columns are missing in the DataFrame.\")\n",
        "    print(df_raw.shape)  # Print the shape of the DataFrame\n",
        "else:\n",
        "    print(\"Failed to fetch data:\", response.status_code)\n",
        "    print(response.text)"
      ],
      "metadata": {
        "colab": {
          "base_uri": "https://localhost:8080/"
        },
        "id": "8X3J41ovli7u",
        "outputId": "ff16805a-50db-4850-e799-c8da659018e1"
      },
      "execution_count": 16,
      "outputs": [
        {
          "output_type": "stream",
          "name": "stdout",
          "text": [
            "                  sid                                    id  position  \\\n",
            "0  row-srwb~tx2x~n8ev  00000000-0000-0000-4285-5E750C26AC67         0   \n",
            "1  row-gmmp~st9n.mrhz  00000000-0000-0000-4E2B-B9D7C965EA43         0   \n",
            "2  row-7ijt_sqje-vi6i  00000000-0000-0000-D645-BE58A56A3049         0   \n",
            "3  row-zgeu~yra9-82sy  00000000-0000-0000-9A4B-BE8620848B21         0   \n",
            "4  row-atvs.3bjf~45tx  00000000-0000-0000-D663-1B517329E940         0   \n",
            "\n",
            "   created_at created_meta  updated_at updated_meta meta  Job ID  \\\n",
            "0  1715108614         None  1715108614         None  { }  534519   \n",
            "1  1715108614         None  1715108614         None  { }  631363   \n",
            "2  1715108614         None  1715108614         None  { }  628158   \n",
            "3  1715108614         None  1715108614         None  { }  629002   \n",
            "4  1715108614         None  1715108614         None  { }  613253   \n",
            "\n",
            "                           Agency  ...  \\\n",
            "0  DEPT OF ENVIRONMENT PROTECTION  ...   \n",
            "1  DEPT OF ENVIRONMENT PROTECTION  ...   \n",
            "2         BRONX DISTRICT ATTORNEY  ...   \n",
            "3      OFFICE OF CRIMINAL JUSTICE  ...   \n",
            "4   DEPT OF DESIGN & CONSTRUCTION  ...   \n",
            "\n",
            "                              Additional Information  \\\n",
            "0  Appointments are subject to OMB approval. For ...   \n",
            "1                                               None   \n",
            "2                                               None   \n",
            "3                                               None   \n",
            "4                                               None   \n",
            "\n",
            "                                            To Apply        Hours/Shift  \\\n",
            "0                   To Apply: Click Apply Now button               None   \n",
            "1  Apply click the âApply Nowâ button.    DEP...  35 Hours per week   \n",
            "2  For City employees, to complete your applicati...               None   \n",
            "3                                               None               None   \n",
            "4  Please go to NYC Government Jobs  Explore Care...               None   \n",
            "\n",
            "                                     Work Location 1 Recruitment Contact  \\\n",
            "0                        96-05 Horace Harding Expway                None   \n",
            "1  *The position is located in Valhalla, NY, in W...                None   \n",
            "2                                               None                None   \n",
            "3                                               None                None   \n",
            "4                                               None                None   \n",
            "\n",
            "                               Residency Requirement         Posting Date  \\\n",
            "0  There is no residency requirement for this title.  2022-06-08T00:00:00   \n",
            "1  There is no New York City residency requiremen...  2024-04-02T00:00:00   \n",
            "2   City Residency is not required for this position  2024-02-27T00:00:00   \n",
            "3  New York City residency is generally required ...  2024-03-05T00:00:00   \n",
            "4  New York City residency is generally required ...  2023-11-06T00:00:00   \n",
            "\n",
            "    Post Until      Posting Updated         Process Date  \n",
            "0         None  2022-06-12T00:00:00  2024-05-06T00:00:00  \n",
            "1  11-JUN-2024  2024-04-02T00:00:00  2024-05-06T00:00:00  \n",
            "2  26-FEB-2025  2024-02-27T00:00:00  2024-05-06T00:00:00  \n",
            "3  29-MAY-2024  2024-04-29T00:00:00  2024-05-06T00:00:00  \n",
            "4         None  2024-03-05T00:00:00  2024-05-06T00:00:00  \n",
            "\n",
            "[5 rows x 38 columns]\n",
            "Index(['sid', 'id', 'position', 'created_at', 'created_meta', 'updated_at',\n",
            "       'updated_meta', 'meta', 'Job ID', 'Agency', 'Posting Type',\n",
            "       '# Of Positions', 'Business Title', 'Civil Service Title',\n",
            "       'Title Classification', 'Title Code No', 'Level', 'Job Category',\n",
            "       'Full-Time/Part-Time indicator', 'Career Level', 'Salary Range From',\n",
            "       'Salary Range To', 'Salary Frequency', 'Work Location',\n",
            "       'Division/Work Unit', 'Job Description', 'Minimum Qual Requirements',\n",
            "       'Preferred Skills', 'Additional Information', 'To Apply', 'Hours/Shift',\n",
            "       'Work Location 1', 'Recruitment Contact', 'Residency Requirement',\n",
            "       'Posting Date', 'Post Until', 'Posting Updated', 'Process Date'],\n",
            "      dtype='object')\n",
            "   Job ID                          Agency Posting Type # Of Positions  \\\n",
            "0  534519  DEPT OF ENVIRONMENT PROTECTION     Internal              2   \n",
            "1  631363  DEPT OF ENVIRONMENT PROTECTION     Internal              1   \n",
            "2  628158         BRONX DISTRICT ATTORNEY     External              2   \n",
            "3  629002      OFFICE OF CRIMINAL JUSTICE     Internal              1   \n",
            "4  613253   DEPT OF DESIGN & CONSTRUCTION     Internal              1   \n",
            "\n",
            "                                      Business Title  \n",
            "0                                  Region Supervisor  \n",
            "1  2024-BWS-010-Early Warning Remote Modeling Int...  \n",
            "2                               Intelligence Analyst  \n",
            "3               Senior Coordinator, Capital Projects  \n",
            "4                                           Director  \n",
            "(5069, 38)\n"
          ]
        }
      ]
    },
    {
      "cell_type": "code",
      "source": [
        "df_raw.info()"
      ],
      "metadata": {
        "colab": {
          "base_uri": "https://localhost:8080/"
        },
        "id": "-HbVgHulLdGi",
        "outputId": "73542f66-7b0d-45e9-f9b0-25672fbb02d6"
      },
      "execution_count": 17,
      "outputs": [
        {
          "output_type": "stream",
          "name": "stdout",
          "text": [
            "<class 'pandas.core.frame.DataFrame'>\n",
            "RangeIndex: 5069 entries, 0 to 5068\n",
            "Data columns (total 38 columns):\n",
            " #   Column                         Non-Null Count  Dtype \n",
            "---  ------                         --------------  ----- \n",
            " 0   sid                            5069 non-null   object\n",
            " 1   id                             5069 non-null   object\n",
            " 2   position                       5069 non-null   int64 \n",
            " 3   created_at                     5069 non-null   int64 \n",
            " 4   created_meta                   0 non-null      object\n",
            " 5   updated_at                     5069 non-null   int64 \n",
            " 6   updated_meta                   0 non-null      object\n",
            " 7   meta                           5069 non-null   object\n",
            " 8   Job ID                         5069 non-null   object\n",
            " 9   Agency                         5069 non-null   object\n",
            " 10  Posting Type                   5069 non-null   object\n",
            " 11  # Of Positions                 5069 non-null   object\n",
            " 12  Business Title                 5069 non-null   object\n",
            " 13  Civil Service Title            5069 non-null   object\n",
            " 14  Title Classification           5069 non-null   object\n",
            " 15  Title Code No                  5069 non-null   object\n",
            " 16  Level                          5069 non-null   object\n",
            " 17  Job Category                   5069 non-null   object\n",
            " 18  Full-Time/Part-Time indicator  4990 non-null   object\n",
            " 19  Career Level                   5069 non-null   object\n",
            " 20  Salary Range From              5069 non-null   object\n",
            " 21  Salary Range To                5069 non-null   object\n",
            " 22  Salary Frequency               5069 non-null   object\n",
            " 23  Work Location                  5069 non-null   object\n",
            " 24  Division/Work Unit             5069 non-null   object\n",
            " 25  Job Description                5067 non-null   object\n",
            " 26  Minimum Qual Requirements      5022 non-null   object\n",
            " 27  Preferred Skills               3694 non-null   object\n",
            " 28  Additional Information         2667 non-null   object\n",
            " 29  To Apply                       4181 non-null   object\n",
            " 30  Hours/Shift                    1623 non-null   object\n",
            " 31  Work Location 1                1858 non-null   object\n",
            " 32  Recruitment Contact            0 non-null      object\n",
            " 33  Residency Requirement          5069 non-null   object\n",
            " 34  Posting Date                   5069 non-null   object\n",
            " 35  Post Until                     1771 non-null   object\n",
            " 36  Posting Updated                5069 non-null   object\n",
            " 37  Process Date                   5069 non-null   object\n",
            "dtypes: int64(3), object(35)\n",
            "memory usage: 1.5+ MB\n"
          ]
        }
      ]
    },
    {
      "cell_type": "code",
      "source": [
        "df_cleaned = df_raw.copy()"
      ],
      "metadata": {
        "id": "XbjmBtfWLukZ"
      },
      "execution_count": 18,
      "outputs": []
    },
    {
      "cell_type": "code",
      "source": [
        "df_cleaned = df_raw.drop(columns=  ['created_meta', 'updated_meta', 'Recruitment Contact',  'Work Location 1', 'Hours/Shift','Post Until', 'Additional Information'])\n",
        "df_cleaned.info()"
      ],
      "metadata": {
        "colab": {
          "base_uri": "https://localhost:8080/"
        },
        "id": "luizwkAGL1OL",
        "outputId": "693263e8-a775-4e60-e22b-a111d751557e"
      },
      "execution_count": 21,
      "outputs": [
        {
          "output_type": "stream",
          "name": "stdout",
          "text": [
            "<class 'pandas.core.frame.DataFrame'>\n",
            "RangeIndex: 5069 entries, 0 to 5068\n",
            "Data columns (total 31 columns):\n",
            " #   Column                         Non-Null Count  Dtype \n",
            "---  ------                         --------------  ----- \n",
            " 0   sid                            5069 non-null   object\n",
            " 1   id                             5069 non-null   object\n",
            " 2   position                       5069 non-null   int64 \n",
            " 3   created_at                     5069 non-null   int64 \n",
            " 4   updated_at                     5069 non-null   int64 \n",
            " 5   meta                           5069 non-null   object\n",
            " 6   Job ID                         5069 non-null   object\n",
            " 7   Agency                         5069 non-null   object\n",
            " 8   Posting Type                   5069 non-null   object\n",
            " 9   # Of Positions                 5069 non-null   object\n",
            " 10  Business Title                 5069 non-null   object\n",
            " 11  Civil Service Title            5069 non-null   object\n",
            " 12  Title Classification           5069 non-null   object\n",
            " 13  Title Code No                  5069 non-null   object\n",
            " 14  Level                          5069 non-null   object\n",
            " 15  Job Category                   5069 non-null   object\n",
            " 16  Full-Time/Part-Time indicator  4990 non-null   object\n",
            " 17  Career Level                   5069 non-null   object\n",
            " 18  Salary Range From              5069 non-null   object\n",
            " 19  Salary Range To                5069 non-null   object\n",
            " 20  Salary Frequency               5069 non-null   object\n",
            " 21  Work Location                  5069 non-null   object\n",
            " 22  Division/Work Unit             5069 non-null   object\n",
            " 23  Job Description                5067 non-null   object\n",
            " 24  Minimum Qual Requirements      5022 non-null   object\n",
            " 25  Preferred Skills               3694 non-null   object\n",
            " 26  To Apply                       4181 non-null   object\n",
            " 27  Residency Requirement          5069 non-null   object\n",
            " 28  Posting Date                   5069 non-null   object\n",
            " 29  Posting Updated                5069 non-null   object\n",
            " 30  Process Date                   5069 non-null   object\n",
            "dtypes: int64(3), object(28)\n",
            "memory usage: 1.2+ MB\n"
          ]
        }
      ]
    },
    {
      "cell_type": "code",
      "source": [
        "CONNECTION_STRING_AZURE_STORAGE = \"DefaultEndpointsProtocol=https;AccountName=nycjobs;AccountKey=IuQ3EcwNFwEaSl4kBB7pn6YFkrmux0GxuaqplhfQErilu32k8n7p4lw9ckn65O3VMTvGrUijAgaY+ASt6+1LYA==;EndpointSuffix=core.windows.net\"\n",
        "CONTAINER_AZURE = 'nycjobs'\n",
        "blob_name = \"nycjobs.csv\"\n",
        "# Convert DataFrame to CSV\n",
        "output = StringIO()\n",
        "df_raw.to_csv(output, index=False)\n",
        "data = output.getvalue()\n",
        "output.close()\n",
        "\n",
        "# Create the BlobServiceClient object\n",
        "blob_service_client = BlobServiceClient.from_connection_string(CONNECTION_STRING_AZURE_STORAGE)\n",
        "\n",
        "# Get a blob client using the container name and blob name\n",
        "blob_client = blob_service_client.get_blob_client(container=CONTAINER_AZURE, blob=blob_name)\n",
        "\n",
        "# Upload the CSV data\n",
        "blob_client.upload_blob(data, overwrite=True)\n",
        "\n",
        "print(f\"Uploaded {blob_name} to Azure Blob Storage in container {CONTAINER_AZURE}.\")\n"
      ],
      "metadata": {
        "colab": {
          "base_uri": "https://localhost:8080/"
        },
        "id": "bymRzdQ1NXVG",
        "outputId": "3f3f12bc-0590-4a50-d4c2-3e1ffe853fe7"
      },
      "execution_count": 22,
      "outputs": [
        {
          "output_type": "stream",
          "name": "stdout",
          "text": [
            "Uploaded nycjobs.csv to Azure Blob Storage in container nycjobs.\n"
          ]
        }
      ]
    },
    {
      "cell_type": "code",
      "source": [
        "# Example usage\n",
        "if __name__ == \"__main__\":\n",
        "\n",
        "    output = StringIO()\n",
        "    df_raw.to_csv(output, index=False)\n",
        "    data = output.getvalue()\n",
        "    output.close()\n",
        "\n",
        "    # Azure\n",
        "    azure_connect_str = 'DefaultEndpointsProtocol=https;AccountName=nycjobs;AccountKey=IuQ3EcwNFwEaSl4kBB7pn6YFkrmux0GxuaqplhfQErilu32k8n7p4lw9ckn65O3VMTvGrUijAgaY+ASt6+1LYA==;EndpointSuffix=core.windows.net'\n",
        "    azure_container_name = 'nycjobs'\n",
        "    azure_blob_name = 'nycjobs.csv'\n",
        "    # Upload CSV data to Azure Blob Storage\n",
        "    azure_upload_blob(azure_connect_str, azure_container_name, azure_blob_name, data)\n",
        "\n",
        "    # Download and print the blob content\n",
        "    azure_blob_content = azure_download_blob(azure_connect_str, azure_container_name, azure_blob_name)\n",
        "    print(azure_blob_content)\n"
      ],
      "metadata": {
        "colab": {
          "base_uri": "https://localhost:8080/"
        },
        "id": "lJJiIYvKCaiE",
        "outputId": "834d90d5-d3e1-44c2-f771-9d874e518623"
      },
      "execution_count": 24,
      "outputs": [
        {
          "output_type": "stream",
          "name": "stdout",
          "text": [
            "Uploaded to Azure Blob: nycjobs.csv\n"
          ]
        },
        {
          "output_type": "stream",
          "name": "stderr",
          "text": [
            "IOPub data rate exceeded.\n",
            "The notebook server will temporarily stop sending output\n",
            "to the client in order to avoid crashing it.\n",
            "To change this limit, set the config variable\n",
            "`--NotebookApp.iopub_data_rate_limit`.\n",
            "\n",
            "Current values:\n",
            "NotebookApp.iopub_data_rate_limit=1000000.0 (bytes/sec)\n",
            "NotebookApp.rate_limit_window=3.0 (secs)\n",
            "\n"
          ]
        }
      ]
    }
  ]
}